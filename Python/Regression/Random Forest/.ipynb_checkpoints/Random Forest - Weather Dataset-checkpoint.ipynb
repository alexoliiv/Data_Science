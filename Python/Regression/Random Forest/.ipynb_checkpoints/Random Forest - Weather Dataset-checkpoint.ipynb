{
 "cells": [
  {
   "cell_type": "markdown",
   "metadata": {},
   "source": [
    "<h1> In this notebook, I retrieved weather data for Seattle, from the NOAA online climate tool. I'll create a Random Forest model to predict the max temperature. Since random forest is a parametric model, I'll import \"RandomizedSearchCV\" to help me identify the best params for my model. <h2/>"
   ]
  },
  {
   "cell_type": "markdown",
   "metadata": {},
   "source": [
    "<h1> 1. Libraries </h1>"
   ]
  },
  {
   "cell_type": "code",
   "execution_count": 1,
   "metadata": {},
   "outputs": [],
   "source": [
    "import numpy as np \n",
    "import pandas as pd  \n",
    "import matplotlib.pyplot as plt\n",
    "\n",
    "from sklearn.model_selection import train_test_split\n",
    "from sklearn.metrics import mean_absolute_error\n",
    "from sklearn.metrics import r2_score\n",
    "from sklearn.tree import DecisionTreeRegressor\n",
    "from sklearn.metrics import accuracy_score \n",
    "from sklearn.metrics import classification_report\n",
    "\n",
    "from matplotlib import pyplot\n",
    "\n",
    "from sklearn.model_selection import RandomizedSearchCV\n",
    "from pprint import pprint\n",
    "\n",
    "# Import the model we are using\n",
    "from sklearn.ensemble import RandomForestRegressor"
   ]
  },
  {
   "cell_type": "code",
   "execution_count": 2,
   "metadata": {},
   "outputs": [],
   "source": [
    "def Import_Data(url):\n",
    "    '''\n",
    "    url = url containing the dataset location\n",
    "    Function : Import_Data()\n",
    "    Date : 15/04/2019\n",
    "    Import \"url\" dataset and print a few informations about it.\n",
    "    '''\n",
    "    Df = pd.read_csv(url, sep= ',', header = 0)\n",
    "     # Printing the dataset shape \n",
    "    print (\"Dataset Lenght: \", len(Df)) \n",
    "    print (\"Dataset Shape: \", Df.shape) \n",
    "      \n",
    "    # Printing the dataset obseravtions \n",
    "    print (\"Dataset:\\n \",Df.head()) \n",
    "    return Df"
   ]
  },
  {
   "cell_type": "code",
   "execution_count": 3,
   "metadata": {},
   "outputs": [],
   "source": [
    "def Data_Summaryze(df):\n",
    "    '''\n",
    "    df = Dataset \n",
    "    Function : Data_Summaryze()\n",
    "    Date : 15/04/2019\n",
    "    Summaryze a few \"df\" informations like : null values, data types and some descriptive measures.\n",
    "    '''\n",
    "    ## Visualyze null values by columns\n",
    "    print(\"Null values:\\n\",df.isnull().sum())\n",
    "    ## Visualyze data types by columns\n",
    "    print(\"Data type:\\n\",df.dtypes)\n",
    "    print(\"Statistics Summary: \\n\",df.describe())\n",
    "    return"
   ]
  },
  {
   "cell_type": "code",
   "execution_count": 4,
   "metadata": {},
   "outputs": [],
   "source": [
    "def Visualyze_Data(df):\n",
    "    '''\n",
    "    df = Dataset \n",
    "    Function : Visualyze_Data()\n",
    "    Date : 15/04/2019\n",
    "    Plot \n",
    "    '''\n",
    "    dates = pd.date_range('1/1/2018',periods=len(Df_Seattle))\n",
    "    # Set up the plotting layout\n",
    "    fig, ((ax1, ax2), (ax3, ax4)) = plt.subplots(nrows=2, ncols=2, figsize = (8,8))\n",
    "    fig.autofmt_xdate(rotation = 45)\n",
    "\n",
    "    # Actual max temperature measurement\n",
    "    ax1.plot(dates, df['actual'])\n",
    "    ax1.set_xlabel(''); ax1.set_ylabel('Temperature'); ax1.set_title('Max Temp')\n",
    "\n",
    "    # Temperature from 1 day ago\n",
    "    ax2.plot(dates, df['temp_1'])\n",
    "    ax2.set_xlabel(''); ax2.set_ylabel('Temperature'); ax2.set_title('Previous Max Temp')\n",
    "\n",
    "    # Temperature from 2 days ago\n",
    "    ax3.plot(dates, df['temp_2'])\n",
    "    ax3.set_xlabel('Date'); ax3.set_ylabel('Temperature'); ax3.set_title('Two Days Prior Max Temp')\n",
    "\n",
    "    # Friend Estimate\n",
    "    ax4.plot(dates, df['friend'])\n",
    "    ax4.set_xlabel('Date'); ax4.set_ylabel('Temperature'); ax4.set_title('Estimate')\n",
    "\n",
    "    plt.tight_layout(pad=2)"
   ]
  },
  {
   "cell_type": "code",
   "execution_count": 5,
   "metadata": {},
   "outputs": [],
   "source": [
    "def Hot_Encoding(df):\n",
    "    '''\n",
    "    df = Dataset \n",
    "    Function : Hot_Encoding()\n",
    "    Date : 15/04/2019\n",
    "    Encode variable \"week\", so that the model can interpret them perfectly. \n",
    "    Return : \"Df\" with week columns encoded.\n",
    "    '''\n",
    "    # One-hot encode categorical features\n",
    "    df = pd.get_dummies(df)\n",
    "    df = pd.concat([Df_Seattle,pd.get_dummies(Df_Seattle['week'])],axis=1)\n",
    "    print('Dataset after encoding process: \\n',df.head(5))\n",
    "    print('Shape of features after one-hot encoding:', df.shape)\n",
    "    return df"
   ]
  },
  {
   "cell_type": "code",
   "execution_count": 6,
   "metadata": {},
   "outputs": [],
   "source": [
    "def Split_Data(df):\n",
    "    '''\n",
    "    df = Dataset \n",
    "    Function : Split_Data()\n",
    "    Date : 15/04/2019\n",
    "    Split \"df\" into train and test dataset.\n",
    "    Return : \"df\" splitted in \"X_train\",\"X_test\",\"y_train\",\"y_test\"\n",
    "    '''\n",
    "    X = df[['temp_1','average']]\n",
    "    y = df['actual']\n",
    "    # Spliting the dataset into train and test \n",
    "    X_train, X_test, y_train, y_test = train_test_split(  \n",
    "    X, y, test_size = 0.3, random_state = 100) \n",
    "    \n",
    "    print(\"Train dataset size :\", len(X_train))\n",
    "    print(\"Test dataset size :\", len(X_test))\n",
    "    return X_train, X_test, y_train, y_test "
   ]
  },
  {
   "cell_type": "code",
   "execution_count": 7,
   "metadata": {},
   "outputs": [],
   "source": [
    "def Random_Tree_Fit(X,y):\n",
    "    '''\n",
    "    X = X feature matrix\n",
    "    y = y target vector\n",
    "    Function : Random_Tree_Fit()\n",
    "    Date : 15/04/2019\n",
    "    Create our random forest model and fit X and y to the model, so, we can make our predictions later.\n",
    "    Return : \"df\" splitted in \"X_train\",\"X_test\",\"y_train\",\"y_test\"\n",
    "    '''\n",
    "    ## Model fitting\n",
    "    clf = DecisionTreeRegressor(min_samples_split=30, min_samples_leaf=10,random_state=0)\n",
    "    clf.fit(X,y)\n",
    "    return clf"
   ]
  },
  {
   "cell_type": "code",
   "execution_count": 8,
   "metadata": {},
   "outputs": [],
   "source": [
    "def Random_Tree_Predict(X,clf_object):\n",
    "    '''\n",
    "    X = X feature matrix\n",
    "    clf_object = our model object\n",
    "    Function : Random_Tree_Predict()\n",
    "    Date : 15/04/2019\n",
    "    Predict values with our \"X_train\" matrix, to calculate accuracy later.\n",
    "    Return : our predicted values.\n",
    "    '''\n",
    "    ## Model Prediction\n",
    "    predictions = clf_object.predict(X)\n",
    "    return predictions"
   ]
  },
  {
   "cell_type": "code",
   "execution_count": 9,
   "metadata": {},
   "outputs": [],
   "source": [
    "def Calc_Accuracy(y_test, y_pred): \n",
    "    '''\n",
    "    y_test = y observed values\n",
    "    y_pred = y predicted values, found by our function \"Random_Tree_Predict\",\n",
    "    Function : Calc_Accuracy()\n",
    "    Date : 15/04/2019\n",
    "    Calculate our model, accuracy.\n",
    "    Return : R2 Score and Mean Square Error.\n",
    "    '''\n",
    "        ## Function to calculate accuracy \n",
    "    print(\"R2: \", \n",
    "          r2_score(y_test, y_pred))  \n",
    "    print (\"MSE : \", \n",
    "         mean_absolute_error(y_test, y_pred))"
   ]
  },
  {
   "cell_type": "code",
   "execution_count": 10,
   "metadata": {},
   "outputs": [],
   "source": [
    "def Variable_Importance(importances):\n",
    "    '''\n",
    "    importances = contain importance of each variable used in the model.\n",
    "    Function : Variable_Importance()\n",
    "    Date : 15/04/2019\n",
    "    list the importance of each variable used in the forest.\n",
    "    Return : list with variable importance\n",
    "    '''\n",
    "    ## List variables importances\n",
    "    importances = list(importances)\n",
    "    ## List features\n",
    "    feature_list = X_train.columns\n",
    "    ##importances = clf.feature_importances_\n",
    "    feature_importance = [(feature,round(importance,2)) for feature, importance in zip(feature_list,importances)]\n",
    "    # Sort the feature importances by most important first\n",
    "    feature_importance = sorted(feature_importance, key = lambda x: x[1], reverse = True)\n",
    "    # Print out the feature and importances \n",
    "    [print('Variable: {:20} Importance: {}'.format(*pair)) for pair in feature_importance]\n",
    "    return\n",
    "    "
   ]
  },
  {
   "cell_type": "code",
   "execution_count": 11,
   "metadata": {},
   "outputs": [],
   "source": [
    "def Randomize_Grid():\n",
    "    '''\n",
    "    Function : Randomize_Grid()\n",
    "    Date : 15/04/2019\n",
    "    Create a dictionary with our parameter grid.\n",
    "    Return : dict with parameters\n",
    "    '''\n",
    "    ## Hyperparameter Tuning\n",
    "    # Number of trees in random forest\n",
    "    n_estimators = [int(x) for x in np.linspace(start = 200, stop = 2000, num = 10)]\n",
    "    # Number of features to consider at every split\n",
    "    max_features = ['auto', 'sqrt']\n",
    "    # Maximum number of levels in tree\n",
    "    max_depth = [int(x) for x in np.linspace(10, 110, num = 11)]\n",
    "    max_depth.append(None)\n",
    "    # Minimum number of samples required to split a node\n",
    "    min_samples_split = [2, 5, 10]\n",
    "    # Minimum number of samples required at each leaf node\n",
    "    min_samples_leaf = [1, 2, 4]\n",
    "    # Method of selecting samples for training each tree\n",
    "    bootstrap = [True, False]\n",
    "    \n",
    "    # Create the random grid\n",
    "    random_grid = {'n_estimators': n_estimators,\n",
    "               'max_features': max_features,\n",
    "               'max_depth': max_depth,\n",
    "               'min_samples_split': min_samples_split,\n",
    "               'min_samples_leaf': min_samples_leaf,\n",
    "               'bootstrap': bootstrap}\n",
    "    pprint(random_grid)\n",
    "    return random_grid"
   ]
  },
  {
   "cell_type": "code",
   "execution_count": 12,
   "metadata": {},
   "outputs": [],
   "source": [
    "def Random_Grid_Fit(clf,random_grid,X_train,y_train):\n",
    "    '''\n",
    "    clf : model object\n",
    "    random_grid : our random grid parameters object\n",
    "    X_train : X matrix\n",
    "    y_train : y vector\n",
    "    Function : Random_Grid_Fit()\n",
    "    Date : 15/04/2019\n",
    "    Fit our random forest with our random grid parameteres\n",
    "    Return : The \"best\" params found by our random search\n",
    "    '''\n",
    "    clf = RandomForestRegressor()\n",
    "    clf_random = RandomizedSearchCV(estimator=clf,param_distributions=random_grid, n_iter=100, cv = 3,\n",
    "    verbose = 2, random_state = 42, n_jobs=-1)\n",
    "    \n",
    "    clf_random.fit(X_train,y_train)\n",
    "    \n",
    "    return clf_random.best_params_,clf_random.best_estimator_"
   ]
  },
  {
   "cell_type": "code",
   "execution_count": 13,
   "metadata": {},
   "outputs": [
    {
     "name": "stdout",
     "output_type": "stream",
     "text": [
      "Dataset Lenght:  348\n",
      "Dataset Shape:  (348, 12)\n",
      "Dataset:\n",
      "     year  month  day  week  temp_2  temp_1  average  actual  forecast_noaa  \\\n",
      "0  2016      1    1   Fri      45      45     45.6      45             43   \n",
      "1  2016      1    2   Sat      44      45     45.7      44             41   \n",
      "2  2016      1    3   Sun      45      44     45.8      41             43   \n",
      "3  2016      1    4   Mon      44      41     45.9      40             44   \n",
      "4  2016      1    5  Tues      41      40     46.0      44             46   \n",
      "\n",
      "   forecast_acc  forecast_under  friend  \n",
      "0            50              44      29  \n",
      "1            50              44      61  \n",
      "2            46              47      56  \n",
      "3            48              46      53  \n",
      "4            46              46      41  \n"
     ]
    }
   ],
   "source": [
    "Df_Seattle = Import_Data(url = 'C:\\\\Users\\\\alexander.leite\\\\Desktop\\\\Machine Learning\\\\datasets\\\\temps.csv')"
   ]
  },
  {
   "cell_type": "code",
   "execution_count": 14,
   "metadata": {},
   "outputs": [
    {
     "name": "stdout",
     "output_type": "stream",
     "text": [
      "Null values:\n",
      " year              0\n",
      "month             0\n",
      "day               0\n",
      "week              0\n",
      "temp_2            0\n",
      "temp_1            0\n",
      "average           0\n",
      "actual            0\n",
      "forecast_noaa     0\n",
      "forecast_acc      0\n",
      "forecast_under    0\n",
      "friend            0\n",
      "dtype: int64\n",
      "Data type:\n",
      " year                int64\n",
      "month               int64\n",
      "day                 int64\n",
      "week               object\n",
      "temp_2              int64\n",
      "temp_1              int64\n",
      "average           float64\n",
      "actual              int64\n",
      "forecast_noaa       int64\n",
      "forecast_acc        int64\n",
      "forecast_under      int64\n",
      "friend              int64\n",
      "dtype: object\n",
      "Statistics Summary: \n",
      "          year       month         day      temp_2      temp_1     average  \\\n",
      "count   348.0  348.000000  348.000000  348.000000  348.000000  348.000000   \n",
      "mean   2016.0    6.477011   15.514368   62.652299   62.701149   59.760632   \n",
      "std       0.0    3.498380    8.772982   12.165398   12.120542   10.527306   \n",
      "min    2016.0    1.000000    1.000000   35.000000   35.000000   45.100000   \n",
      "25%    2016.0    3.000000    8.000000   54.000000   54.000000   49.975000   \n",
      "50%    2016.0    6.000000   15.000000   62.500000   62.500000   58.200000   \n",
      "75%    2016.0   10.000000   23.000000   71.000000   71.000000   69.025000   \n",
      "max    2016.0   12.000000   31.000000  117.000000  117.000000   77.400000   \n",
      "\n",
      "           actual  forecast_noaa  forecast_acc  forecast_under      friend  \n",
      "count  348.000000     348.000000    348.000000      348.000000  348.000000  \n",
      "mean    62.543103      57.238506     62.373563       59.772989   60.034483  \n",
      "std     11.794146      10.605746     10.549381       10.705256   15.626179  \n",
      "min     35.000000      41.000000     46.000000       44.000000   28.000000  \n",
      "25%     54.000000      48.000000     53.000000       50.000000   47.750000  \n",
      "50%     62.500000      56.000000     61.000000       58.000000   60.000000  \n",
      "75%     71.000000      66.000000     72.000000       69.000000   71.000000  \n",
      "max     92.000000      77.000000     82.000000       79.000000   95.000000  \n"
     ]
    }
   ],
   "source": [
    "Data_Summaryze(Df_Seattle)"
   ]
  },
  {
   "cell_type": "code",
   "execution_count": 15,
   "metadata": {},
   "outputs": [
    {
     "data": {
      "image/png": "[encoded data removed]",
      "text/plain": [
       "<Figure size 576x576 with 4 Axes>"
      ]
     },
     "metadata": {
      "needs_background": "light"
     },
     "output_type": "display_data"
    }
   ],
   "source": [
    "Visualyze_Data(Df_Seattle)"
   ]
  },
  {
   "cell_type": "code",
   "execution_count": 16,
   "metadata": {},
   "outputs": [
    {
     "name": "stdout",
     "output_type": "stream",
     "text": [
      "Dataset after encoding process: \n",
      "    year  month  day  week  temp_2  temp_1  average  actual  forecast_noaa  \\\n",
      "0  2016      1    1   Fri      45      45     45.6      45             43   \n",
      "1  2016      1    2   Sat      44      45     45.7      44             41   \n",
      "2  2016      1    3   Sun      45      44     45.8      41             43   \n",
      "3  2016      1    4   Mon      44      41     45.9      40             44   \n",
      "4  2016      1    5  Tues      41      40     46.0      44             46   \n",
      "\n",
      "   forecast_acc  forecast_under  friend  Fri  Mon  Sat  Sun  Thurs  Tues  Wed  \n",
      "0            50              44      29    1    0    0    0      0     0    0  \n",
      "1            50              44      61    0    0    1    0      0     0    0  \n",
      "2            46              47      56    0    0    0    1      0     0    0  \n",
      "3            48              46      53    0    1    0    0      0     0    0  \n",
      "4            46              46      41    0    0    0    0      0     1    0  \n",
      "Shape of features after one-hot encoding: (348, 19)\n"
     ]
    }
   ],
   "source": [
    "## Encoding categorical variables so that the machine learning algorithm can properly process all the data\n",
    "Df_Seattle = Hot_Encoding(Df_Seattle)"
   ]
  },
  {
   "cell_type": "code",
   "execution_count": 17,
   "metadata": {},
   "outputs": [
    {
     "name": "stdout",
     "output_type": "stream",
     "text": [
      "Train dataset size : 243\n",
      "Test dataset size : 105\n"
     ]
    }
   ],
   "source": [
    "## Splitting dataset into train and test\n",
    "X_train, X_test, y_train, y_test = Split_Data(Df_Seattle)"
   ]
  },
  {
   "cell_type": "code",
   "execution_count": 18,
   "metadata": {},
   "outputs": [],
   "source": [
    "## Fitting the model\n",
    "clf = Random_Tree_Fit(X_train,y_train)"
   ]
  },
  {
   "cell_type": "code",
   "execution_count": 19,
   "metadata": {},
   "outputs": [],
   "source": [
    "## Predicting values\n",
    "y_pred = Random_Tree_Predict(X_test,clf)"
   ]
  },
  {
   "cell_type": "code",
   "execution_count": 25,
   "metadata": {},
   "outputs": [
    {
     "name": "stdout",
     "output_type": "stream",
     "text": [
      "R2:  0.804775809682\n",
      "MSE :  3.97648411739\n"
     ]
    }
   ],
   "source": [
    "## Calculating our model accuracy\n",
    "Calc_Accuracy(y_test,y_pred)"
   ]
  },
  {
   "cell_type": "code",
   "execution_count": 50,
   "metadata": {},
   "outputs": [
    {
     "name": "stdout",
     "output_type": "stream",
     "text": [
      "Variable: temp_1               Importance: 0.85\n",
      "Variable: average              Importance: 0.15\n"
     ]
    }
   ],
   "source": [
    "## Detecting variable importance, after executing this functin I changed the variables I used in the model\n",
    "Variable_Importance(clf.feature_importances_)"
   ]
  },
  {
   "cell_type": "code",
   "execution_count": 22,
   "metadata": {},
   "outputs": [
    {
     "name": "stdout",
     "output_type": "stream",
     "text": [
      "{'bootstrap': [True, False],\n",
      " 'max_depth': [10, 20, 30, 40, 50, 60, 70, 80, 90, 100, 110, None],\n",
      " 'max_features': ['auto', 'sqrt'],\n",
      " 'min_samples_leaf': [1, 2, 4],\n",
      " 'min_samples_split': [2, 5, 10],\n",
      " 'n_estimators': [200, 400, 600, 800, 1000, 1200, 1400, 1600, 1800, 2000]}\n"
     ]
    }
   ],
   "source": [
    "## Construct a random grid to identify the best parameters\n",
    "random_grid = Randomize_Grid()"
   ]
  },
  {
   "cell_type": "code",
   "execution_count": 38,
   "metadata": {
    "scrolled": true
   },
   "outputs": [
    {
     "name": "stdout",
     "output_type": "stream",
     "text": [
      "Fitting 3 folds for each of 100 candidates, totalling 300 fits\n"
     ]
    },
    {
     "name": "stderr",
     "output_type": "stream",
     "text": [
      "[Parallel(n_jobs=-1)]: Using backend LokyBackend with 4 concurrent workers.\n",
      "[Parallel(n_jobs=-1)]: Done  33 tasks      | elapsed:    7.4s\n",
      "[Parallel(n_jobs=-1)]: Done 154 tasks      | elapsed:   36.7s\n",
      "[Parallel(n_jobs=-1)]: Done 300 out of 300 | elapsed:  1.1min finished\n"
     ]
    }
   ],
   "source": [
    "## Print the best parameters and construct the new \"clf\" object\n",
    "best_grid,clf_best_grid = Random_Grid_Fit(clf,random_grid,X_train,y_train)"
   ]
  },
  {
   "cell_type": "code",
   "execution_count": 48,
   "metadata": {},
   "outputs": [],
   "source": [
    "## predict new values with our \"best parameters grid\"\n",
    "y_pred = Random_Tree_Predict(X_test,clf_best_grid)"
   ]
  },
  {
   "cell_type": "code",
   "execution_count": 49,
   "metadata": {},
   "outputs": [
    {
     "name": "stdout",
     "output_type": "stream",
     "text": [
      "R2:  0.858536757964\n",
      "MSE :  3.49637751207\n"
     ]
    }
   ],
   "source": [
    "## Calculating our model accuracy with our new model, see that we got a few precision gain\n",
    "Calc_Accuracy(y_test,y_pred)"
   ]
  },
  {
   "cell_type": "code",
   "execution_count": null,
   "metadata": {},
   "outputs": [],
   "source": []
  }
 ],
 "metadata": {
  "kernelspec": {
   "display_name": "Python 3",
   "language": "python",
   "name": "python3"
  },
  "language_info": {
   "codemirror_mode": {
    "name": "ipython",
    "version": 3
   },
   "file_extension": ".py",
   "mimetype": "text/x-python",
   "name": "python",
   "nbconvert_exporter": "python",
   "pygments_lexer": "ipython3",
   "version": "3.7.0"
  }
 },
 "nbformat": 4,
 "nbformat_minor": 2
}
