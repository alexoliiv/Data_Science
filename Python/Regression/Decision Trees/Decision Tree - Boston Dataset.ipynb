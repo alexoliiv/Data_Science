{
 "cells": [
  {
   "cell_type": "markdown",
   "metadata": {},
   "source": [
    "<h2> 1. Libraries </h2>"
   ]
  },
  {
   "cell_type": "code",
   "execution_count": 92,
   "metadata": {},
   "outputs": [],
   "source": [
    "import numpy as np \n",
    "import pandas as pd  \n",
    "\n",
    "from sklearn.model_selection import train_test_split\n",
    "from sklearn.datasets import load_boston\n",
    "from sklearn.metrics import mean_squared_error\n",
    "from sklearn.metrics import r2_score\n",
    "from sklearn.tree import DecisionTreeRegressor\n",
    "\n",
    "\n"
   ]
  },
  {
   "cell_type": "markdown",
   "metadata": {},
   "source": [
    "<h2> 2. Functions </h2>"
   ]
  },
  {
   "cell_type": "code",
   "execution_count": 38,
   "metadata": {},
   "outputs": [],
   "source": [
    "def Generate_Data():\n",
    "    # Generating o dataset\n",
    "    boston = load_boston() \n",
    "    dataset = pd.DataFrame(boston.data, columns = boston.feature_names)\n",
    "    dataset['target'] = boston.target\n",
    "     # Printing the dataset shape \n",
    "    print (\"Dataset Lenght: \", len(dataset)) \n",
    "    print(\"------------------------------------------------------------------------------------------------------------------\")\n",
    "    print (\"Dataset Shape: \", dataset.shape) \n",
    "    print(\"------------------------------------------------------------------------------------------------------------------\")\n",
    "    # Printing the dataset obseravtions \n",
    "    print (\"Dataset:\\n \",dataset.head()) \n",
    "    print(\"------------------------------------------------------------------------------------------------------------------\")\n",
    "    return dataset"
   ]
  },
  {
   "cell_type": "code",
   "execution_count": 42,
   "metadata": {},
   "outputs": [],
   "source": [
    "def Visualyze_Data(df):\n",
    "    ## Visualyze null values by columns\n",
    "    print(\"Null values:\\n\",df.isnull().sum())\n",
    "    print(\"------------------------------------------------------------------------------------------------------------------\")\n",
    "    ## Visualyze data types by columns\n",
    "    print(\"Data type:\\n\",df.dtypes)\n",
    "    print(\"------------------------------------------------------------------------------------------------------------------\")\n",
    "    print(\"Statistics Summary: \\n\",df.describe())\n",
    "    return"
   ]
  },
  {
   "cell_type": "code",
   "execution_count": 68,
   "metadata": {},
   "outputs": [],
   "source": [
    "def Correlation_Matrix(df):\n",
    "    ## analyze variables correlation\n",
    "    corr = df.corr().round(2)\n",
    "    print(\"Correlation Matrix: \\n\",corr)\n",
    "    print(\"------------------------------------------------------------------------------------------------------------------\")\n",
    "    return corr"
   ]
  },
  {
   "cell_type": "code",
   "execution_count": 75,
   "metadata": {},
   "outputs": [],
   "source": [
    "def Process_Data(df_old,columns):\n",
    "    Df_boston = df_old[columns]\n",
    "    print (\"New dataset Shape: \", Df_boston.shape) \n",
    "    print(\"------------------------------------------------------------------------------------------------------------------\")\n",
    "    print(\"New dataset: \\n\", Df_boston.head())\n",
    "    # Seperating the target variable \n",
    "    X = Df_boston.values[:, 0:3] \n",
    "    y = Df_boston.values[:, -1] \n",
    "  \n",
    "    # Spliting the dataset into train and test \n",
    "    X_train, X_test, y_train, y_test = train_test_split(  \n",
    "    X, y, test_size = 0.3, random_state = 100) \n",
    "    \n",
    "    print(\"Train dataset size :\", len(X_train))\n",
    "    print(\"Test dataset size :\", len(X_test))\n",
    "    return X_train, X_test, y_train, y_test "
   ]
  },
  {
   "cell_type": "code",
   "execution_count": 96,
   "metadata": {},
   "outputs": [],
   "source": [
    "def Tree_Regressor(X,y):\n",
    "    clf = DecisionTreeRegressor(\n",
    "     min_samples_split=30, min_samples_leaf=10,\n",
    "      random_state=0)\n",
    "    clf.fit(X,y)\n",
    "    return clf"
   ]
  },
  {
   "cell_type": "code",
   "execution_count": 81,
   "metadata": {},
   "outputs": [],
   "source": [
    "def Tree_Prediction(clf):\n",
    "    # Predicton on test \n",
    "    y_pred = clf.predict(X_test) \n",
    "    print(\"Predicted values:\") \n",
    "    print(y_pred) \n",
    "    return y_pred"
   ]
  },
  {
   "cell_type": "code",
   "execution_count": 102,
   "metadata": {},
   "outputs": [],
   "source": [
    "# Function to calculate accuracy \n",
    "def call_accuracy(y_test, y_pred): \n",
    "      \n",
    "    print(\"R2: \", \n",
    "          r2_score(y_test, y_pred))  \n",
    "    print (\"MSE : \", \n",
    "         np.sqrt(mean_squared_error(y_test, y_pred)))"
   ]
  },
  {
   "cell_type": "code",
   "execution_count": 87,
   "metadata": {},
   "outputs": [
    {
     "name": "stdout",
     "output_type": "stream",
     "text": [
      "Dataset Lenght:  506\n",
      "------------------------------------------------------------------------------------------------------------------\n",
      "Dataset Shape:  (506, 14)\n",
      "------------------------------------------------------------------------------------------------------------------\n",
      "Dataset:\n",
      "        CRIM    ZN  INDUS  CHAS    NOX     RM   AGE     DIS  RAD    TAX  \\\n",
      "0  0.00632  18.0   2.31   0.0  0.538  6.575  65.2  4.0900  1.0  296.0   \n",
      "1  0.02731   0.0   7.07   0.0  0.469  6.421  78.9  4.9671  2.0  242.0   \n",
      "2  0.02729   0.0   7.07   0.0  0.469  7.185  61.1  4.9671  2.0  242.0   \n",
      "3  0.03237   0.0   2.18   0.0  0.458  6.998  45.8  6.0622  3.0  222.0   \n",
      "4  0.06905   0.0   2.18   0.0  0.458  7.147  54.2  6.0622  3.0  222.0   \n",
      "\n",
      "   PTRATIO       B  LSTAT  target  \n",
      "0     15.3  396.90   4.98    24.0  \n",
      "1     17.8  396.90   9.14    21.6  \n",
      "2     17.8  392.83   4.03    34.7  \n",
      "3     18.7  394.63   2.94    33.4  \n",
      "4     18.7  396.90   5.33    36.2  \n",
      "------------------------------------------------------------------------------------------------------------------\n",
      "Null values:\n",
      " CRIM       0\n",
      "ZN         0\n",
      "INDUS      0\n",
      "CHAS       0\n",
      "NOX        0\n",
      "RM         0\n",
      "AGE        0\n",
      "DIS        0\n",
      "RAD        0\n",
      "TAX        0\n",
      "PTRATIO    0\n",
      "B          0\n",
      "LSTAT      0\n",
      "target     0\n",
      "dtype: int64\n",
      "------------------------------------------------------------------------------------------------------------------\n",
      "Data type:\n",
      " CRIM       float64\n",
      "ZN         float64\n",
      "INDUS      float64\n",
      "CHAS       float64\n",
      "NOX        float64\n",
      "RM         float64\n",
      "AGE        float64\n",
      "DIS        float64\n",
      "RAD        float64\n",
      "TAX        float64\n",
      "PTRATIO    float64\n",
      "B          float64\n",
      "LSTAT      float64\n",
      "target     float64\n",
      "dtype: object\n",
      "------------------------------------------------------------------------------------------------------------------\n",
      "Statistics Summary: \n",
      "              CRIM          ZN       INDUS        CHAS         NOX          RM  \\\n",
      "count  506.000000  506.000000  506.000000  506.000000  506.000000  506.000000   \n",
      "mean     3.613524   11.363636   11.136779    0.069170    0.554695    6.284634   \n",
      "std      8.601545   23.322453    6.860353    0.253994    0.115878    0.702617   \n",
      "min      0.006320    0.000000    0.460000    0.000000    0.385000    3.561000   \n",
      "25%      0.082045    0.000000    5.190000    0.000000    0.449000    5.885500   \n",
      "50%      0.256510    0.000000    9.690000    0.000000    0.538000    6.208500   \n",
      "75%      3.677083   12.500000   18.100000    0.000000    0.624000    6.623500   \n",
      "max     88.976200  100.000000   27.740000    1.000000    0.871000    8.780000   \n",
      "\n",
      "              AGE         DIS         RAD         TAX     PTRATIO           B  \\\n",
      "count  506.000000  506.000000  506.000000  506.000000  506.000000  506.000000   \n",
      "mean    68.574901    3.795043    9.549407  408.237154   18.455534  356.674032   \n",
      "std     28.148861    2.105710    8.707259  168.537116    2.164946   91.294864   \n",
      "min      2.900000    1.129600    1.000000  187.000000   12.600000    0.320000   \n",
      "25%     45.025000    2.100175    4.000000  279.000000   17.400000  375.377500   \n",
      "50%     77.500000    3.207450    5.000000  330.000000   19.050000  391.440000   \n",
      "75%     94.075000    5.188425   24.000000  666.000000   20.200000  396.225000   \n",
      "max    100.000000   12.126500   24.000000  711.000000   22.000000  396.900000   \n",
      "\n",
      "            LSTAT      target  \n",
      "count  506.000000  506.000000  \n",
      "mean    12.653063   22.532806  \n",
      "std      7.141062    9.197104  \n",
      "min      1.730000    5.000000  \n",
      "25%      6.950000   17.025000  \n",
      "50%     11.360000   21.200000  \n",
      "75%     16.955000   25.000000  \n",
      "max     37.970000   50.000000  \n"
     ]
    }
   ],
   "source": [
    "Df_boston = Generate_Data()\n",
    "Visualyze_Data(Df_boston)"
   ]
  },
  {
   "cell_type": "code",
   "execution_count": 88,
   "metadata": {},
   "outputs": [
    {
     "name": "stdout",
     "output_type": "stream",
     "text": [
      "Correlation Matrix: \n",
      "          CRIM    ZN  INDUS  CHAS   NOX    RM   AGE   DIS   RAD   TAX  PTRATIO  \\\n",
      "CRIM     1.00 -0.20   0.41 -0.06  0.42 -0.22  0.35 -0.38  0.63  0.58     0.29   \n",
      "ZN      -0.20  1.00  -0.53 -0.04 -0.52  0.31 -0.57  0.66 -0.31 -0.31    -0.39   \n",
      "INDUS    0.41 -0.53   1.00  0.06  0.76 -0.39  0.64 -0.71  0.60  0.72     0.38   \n",
      "CHAS    -0.06 -0.04   0.06  1.00  0.09  0.09  0.09 -0.10 -0.01 -0.04    -0.12   \n",
      "NOX      0.42 -0.52   0.76  0.09  1.00 -0.30  0.73 -0.77  0.61  0.67     0.19   \n",
      "RM      -0.22  0.31  -0.39  0.09 -0.30  1.00 -0.24  0.21 -0.21 -0.29    -0.36   \n",
      "AGE      0.35 -0.57   0.64  0.09  0.73 -0.24  1.00 -0.75  0.46  0.51     0.26   \n",
      "DIS     -0.38  0.66  -0.71 -0.10 -0.77  0.21 -0.75  1.00 -0.49 -0.53    -0.23   \n",
      "RAD      0.63 -0.31   0.60 -0.01  0.61 -0.21  0.46 -0.49  1.00  0.91     0.46   \n",
      "TAX      0.58 -0.31   0.72 -0.04  0.67 -0.29  0.51 -0.53  0.91  1.00     0.46   \n",
      "PTRATIO  0.29 -0.39   0.38 -0.12  0.19 -0.36  0.26 -0.23  0.46  0.46     1.00   \n",
      "B       -0.39  0.18  -0.36  0.05 -0.38  0.13 -0.27  0.29 -0.44 -0.44    -0.18   \n",
      "LSTAT    0.46 -0.41   0.60 -0.05  0.59 -0.61  0.60 -0.50  0.49  0.54     0.37   \n",
      "target  -0.39  0.36  -0.48  0.18 -0.43  0.70 -0.38  0.25 -0.38 -0.47    -0.51   \n",
      "\n",
      "            B  LSTAT  target  \n",
      "CRIM    -0.39   0.46   -0.39  \n",
      "ZN       0.18  -0.41    0.36  \n",
      "INDUS   -0.36   0.60   -0.48  \n",
      "CHAS     0.05  -0.05    0.18  \n",
      "NOX     -0.38   0.59   -0.43  \n",
      "RM       0.13  -0.61    0.70  \n",
      "AGE     -0.27   0.60   -0.38  \n",
      "DIS      0.29  -0.50    0.25  \n",
      "RAD     -0.44   0.49   -0.38  \n",
      "TAX     -0.44   0.54   -0.47  \n",
      "PTRATIO -0.18   0.37   -0.51  \n",
      "B        1.00  -0.37    0.33  \n",
      "LSTAT   -0.37   1.00   -0.74  \n",
      "target   0.33  -0.74    1.00  \n",
      "------------------------------------------------------------------------------------------------------------------\n",
      "New dataset Shape:  (506, 3)\n",
      "------------------------------------------------------------------------------------------------------------------\n",
      "New dataset: \n",
      "       RM  LSTAT  target\n",
      "0  6.575   4.98    24.0\n",
      "1  6.421   9.14    21.6\n",
      "2  7.185   4.03    34.7\n",
      "3  6.998   2.94    33.4\n",
      "4  7.147   5.33    36.2\n",
      "Train dataset size : 354\n",
      "Test dataset size : 152\n"
     ]
    }
   ],
   "source": [
    "Correlation_Matrix(Df_boston)\n",
    "X_train, X_test, y_train, y_test  = Process_Data(Df_boston,['RM','LSTAT','target'])"
   ]
  },
  {
   "cell_type": "code",
   "execution_count": 103,
   "metadata": {},
   "outputs": [
    {
     "name": "stdout",
     "output_type": "stream",
     "text": [
      "Predicted values:\n",
      "[ 34.98461538  31.30833333  20.73703704  13.74230769  16.675       21.92916667\n",
      "  22.98148148  24.05925926  19.68965517  16.675       22.98148148\n",
      "  15.29285714  20.73703704  18.69473684  46.56        24.05925926\n",
      "  22.98148148  16.675       31.30833333  46.56        34.98461538\n",
      "   8.57142857  20.73703704  13.74230769   8.57142857  12.19        24.05925926\n",
      "  16.675       19.68965517  16.675       18.69473684  24.05925926  46.56\n",
      "  24.05925926  31.30833333  34.98461538  15.29285714   8.57142857\n",
      "  18.69473684  20.73703704  22.98148148  21.92916667  18.69473684\n",
      "  19.68965517  25.38        25.38        18.69473684  15.29285714\n",
      "  18.69473684  13.74230769  20.73703704  19.68965517  20.73703704  25.38\n",
      "  12.19        19.68965517  28.505       34.98461538   8.57142857\n",
      "  20.73703704  13.74230769  28.505       19.68965517  34.98461538\n",
      "  20.73703704  28.505       17.775       31.30833333  20.73703704\n",
      "  20.73703704   8.57142857  21.92916667   8.57142857  15.29285714  25.38\n",
      "   8.57142857  24.05925926  34.98461538   8.57142857  22.98148148  46.56\n",
      "  46.56        13.74230769  12.19        12.19        13.74230769\n",
      "  21.92916667  18.69473684   8.57142857  16.675       28.505       22.98148148\n",
      "  21.92916667  21.92916667  25.38        16.675       21.92916667  46.56\n",
      "   8.57142857  46.56        13.74230769   8.57142857   8.57142857\n",
      "  21.92916667  46.56        17.775       24.05925926   8.57142857\n",
      "   8.57142857  25.38        22.98148148  34.98461538  34.98461538  12.19\n",
      "  24.05925926  19.68965517  28.505       16.675       46.56         8.57142857\n",
      "  15.29285714  13.74230769  21.92916667  22.98148148  19.68965517\n",
      "  13.74230769  15.29285714  19.68965517  19.68965517  19.68965517\n",
      "  22.98148148  17.775       22.98148148  18.69473684  22.98148148  46.56\n",
      "  22.98148148  22.98148148  20.73703704  20.73703704  13.74230769\n",
      "   8.57142857  13.74230769  31.30833333  31.30833333  19.68965517  46.56\n",
      "  24.05925926  18.69473684  28.505       12.19        46.56      ]\n",
      "R2:  0.985045986438\n",
      "MSE :  1.23069758214\n"
     ]
    }
   ],
   "source": [
    "clf_reg = Tree_Regressor(X_train,y_train)\n",
    "y_pred = Tree_Prediction(clf_reg)\n",
    "call_accuracy(y_test,y_pred)"
   ]
  },
  {
   "cell_type": "code",
   "execution_count": null,
   "metadata": {},
   "outputs": [],
   "source": []
  }
 ],
 "metadata": {
  "kernelspec": {
   "display_name": "Python 3",
   "language": "python",
   "name": "python3"
  },
  "language_info": {
   "codemirror_mode": {
    "name": "ipython",
    "version": 3
   },
   "file_extension": ".py",
   "mimetype": "text/x-python",
   "name": "python",
   "nbconvert_exporter": "python",
   "pygments_lexer": "ipython3",
   "version": "3.7.0"
  }
 },
 "nbformat": 4,
 "nbformat_minor": 2
}
