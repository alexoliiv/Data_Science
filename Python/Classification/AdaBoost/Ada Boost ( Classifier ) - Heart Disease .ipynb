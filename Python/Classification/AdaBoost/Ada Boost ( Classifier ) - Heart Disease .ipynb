{
 "cells": [
  {
   "cell_type": "markdown",
   "metadata": {},
   "source": [
    "<h1> Here, I'll use and AdaBoost algorithm to classify wheter a patient has heart disease or not.  <h1/>"
   ]
  },
  {
   "cell_type": "code",
   "execution_count": 1,
   "metadata": {},
   "outputs": [],
   "source": [
    "## Use kfold cross validation to fit the model\n",
    "%matplotlib inline\n",
    "import matplotlib.pyplot as plt\n",
    "import seaborn as sns\n",
    "\n",
    "\n",
    "import pandas as pd \n",
    "import numpy as np\n",
    "\n",
    "# Load libraries\n",
    "from sklearn.ensemble import AdaBoostClassifier\n",
    "from sklearn.ensemble import RandomForestClassifier\n",
    "from sklearn.tree import DecisionTreeClassifier\n",
    "from sklearn.model_selection import RandomizedSearchCV\n",
    "from sklearn.model_selection import train_test_split\n",
    "from sklearn.model_selection import KFold\n",
    "from sklearn.model_selection import cross_val_score\n",
    "from sklearn.metrics import confusion_matrix\n",
    "from sklearn.metrics import classification_report \n",
    "from sklearn.metrics import make_scorer, accuracy_score, precision_score, recall_score, f1_score\n",
    "from sklearn.model_selection import cross_validate\n",
    "import sklearn.metrics\n",
    "from scipy import stats\n",
    "\n",
    "from pprint import pprint\n",
    "\n",
    "from Ada_Lib import *"
   ]
  },
  {
   "cell_type": "code",
   "execution_count": 2,
   "metadata": {},
   "outputs": [
    {
     "name": "stdout",
     "output_type": "stream",
     "text": [
      "Dataset Lenght:  303\n",
      "Dataset Shape:  (303, 14)\n",
      "Dataset:\n",
      "     age  sex  cp  trestbps  chol  fbs  restecg  thalach  exang  oldpeak  slope  \\\n",
      "0   63    1   3       145   233    1        0      150      0      2.3      0   \n",
      "1   37    1   2       130   250    0        1      187      0      3.5      0   \n",
      "2   41    0   1       130   204    0        0      172      0      1.4      2   \n",
      "3   56    1   1       120   236    0        1      178      0      0.8      2   \n",
      "4   57    0   0       120   354    0        1      163      1      0.6      2   \n",
      "\n",
      "   ca  thal  target  \n",
      "0   0     1       1  \n",
      "1   0     2       1  \n",
      "2   0     2       1  \n",
      "3   0     2       1  \n",
      "4   0     2       1  \n"
     ]
    }
   ],
   "source": [
    "## Import dataset\n",
    "Df_Heart = Import_Data(path = 'C:\\\\Users\\\\alexander.leite\\\\Desktop\\\\Machine Learning\\\\datasets\\\\heart-disease-uci\\\\heart.csv')"
   ]
  },
  {
   "cell_type": "code",
   "execution_count": 3,
   "metadata": {},
   "outputs": [
    {
     "data": {
      "text/html": [
       "<div>\n",
       "<style scoped>\n",
       "    .dataframe tbody tr th:only-of-type {\n",
       "        vertical-align: middle;\n",
       "    }\n",
       "\n",
       "    .dataframe tbody tr th {\n",
       "        vertical-align: top;\n",
       "    }\n",
       "\n",
       "    .dataframe thead th {\n",
       "        text-align: right;\n",
       "    }\n",
       "</style>\n",
       "<table border=\"1\" class=\"dataframe\">\n",
       "  <thead>\n",
       "    <tr style=\"text-align: right;\">\n",
       "      <th></th>\n",
       "      <th>age</th>\n",
       "      <th>sex</th>\n",
       "      <th>cp</th>\n",
       "      <th>trestbps</th>\n",
       "      <th>chol</th>\n",
       "      <th>fbs</th>\n",
       "      <th>restecg</th>\n",
       "      <th>thalach</th>\n",
       "      <th>exang</th>\n",
       "      <th>oldpeak</th>\n",
       "      <th>slope</th>\n",
       "      <th>ca</th>\n",
       "      <th>thal</th>\n",
       "      <th>target</th>\n",
       "    </tr>\n",
       "  </thead>\n",
       "  <tbody>\n",
       "    <tr>\n",
       "      <th>count</th>\n",
       "      <td>303.000000</td>\n",
       "      <td>303.000000</td>\n",
       "      <td>303.000000</td>\n",
       "      <td>303.000000</td>\n",
       "      <td>303.000000</td>\n",
       "      <td>303.000000</td>\n",
       "      <td>303.000000</td>\n",
       "      <td>303.000000</td>\n",
       "      <td>303.000000</td>\n",
       "      <td>303.000000</td>\n",
       "      <td>303.000000</td>\n",
       "      <td>303.000000</td>\n",
       "      <td>303.000000</td>\n",
       "      <td>303.000000</td>\n",
       "    </tr>\n",
       "    <tr>\n",
       "      <th>mean</th>\n",
       "      <td>54.366337</td>\n",
       "      <td>0.683168</td>\n",
       "      <td>0.966997</td>\n",
       "      <td>131.623762</td>\n",
       "      <td>246.264026</td>\n",
       "      <td>0.148515</td>\n",
       "      <td>0.528053</td>\n",
       "      <td>149.646865</td>\n",
       "      <td>0.326733</td>\n",
       "      <td>1.039604</td>\n",
       "      <td>1.399340</td>\n",
       "      <td>0.729373</td>\n",
       "      <td>2.313531</td>\n",
       "      <td>0.544554</td>\n",
       "    </tr>\n",
       "    <tr>\n",
       "      <th>std</th>\n",
       "      <td>9.082101</td>\n",
       "      <td>0.466011</td>\n",
       "      <td>1.032052</td>\n",
       "      <td>17.538143</td>\n",
       "      <td>51.830751</td>\n",
       "      <td>0.356198</td>\n",
       "      <td>0.525860</td>\n",
       "      <td>22.905161</td>\n",
       "      <td>0.469794</td>\n",
       "      <td>1.161075</td>\n",
       "      <td>0.616226</td>\n",
       "      <td>1.022606</td>\n",
       "      <td>0.612277</td>\n",
       "      <td>0.498835</td>\n",
       "    </tr>\n",
       "    <tr>\n",
       "      <th>min</th>\n",
       "      <td>29.000000</td>\n",
       "      <td>0.000000</td>\n",
       "      <td>0.000000</td>\n",
       "      <td>94.000000</td>\n",
       "      <td>126.000000</td>\n",
       "      <td>0.000000</td>\n",
       "      <td>0.000000</td>\n",
       "      <td>71.000000</td>\n",
       "      <td>0.000000</td>\n",
       "      <td>0.000000</td>\n",
       "      <td>0.000000</td>\n",
       "      <td>0.000000</td>\n",
       "      <td>0.000000</td>\n",
       "      <td>0.000000</td>\n",
       "    </tr>\n",
       "    <tr>\n",
       "      <th>25%</th>\n",
       "      <td>47.500000</td>\n",
       "      <td>0.000000</td>\n",
       "      <td>0.000000</td>\n",
       "      <td>120.000000</td>\n",
       "      <td>211.000000</td>\n",
       "      <td>0.000000</td>\n",
       "      <td>0.000000</td>\n",
       "      <td>133.500000</td>\n",
       "      <td>0.000000</td>\n",
       "      <td>0.000000</td>\n",
       "      <td>1.000000</td>\n",
       "      <td>0.000000</td>\n",
       "      <td>2.000000</td>\n",
       "      <td>0.000000</td>\n",
       "    </tr>\n",
       "    <tr>\n",
       "      <th>50%</th>\n",
       "      <td>55.000000</td>\n",
       "      <td>1.000000</td>\n",
       "      <td>1.000000</td>\n",
       "      <td>130.000000</td>\n",
       "      <td>240.000000</td>\n",
       "      <td>0.000000</td>\n",
       "      <td>1.000000</td>\n",
       "      <td>153.000000</td>\n",
       "      <td>0.000000</td>\n",
       "      <td>0.800000</td>\n",
       "      <td>1.000000</td>\n",
       "      <td>0.000000</td>\n",
       "      <td>2.000000</td>\n",
       "      <td>1.000000</td>\n",
       "    </tr>\n",
       "    <tr>\n",
       "      <th>75%</th>\n",
       "      <td>61.000000</td>\n",
       "      <td>1.000000</td>\n",
       "      <td>2.000000</td>\n",
       "      <td>140.000000</td>\n",
       "      <td>274.500000</td>\n",
       "      <td>0.000000</td>\n",
       "      <td>1.000000</td>\n",
       "      <td>166.000000</td>\n",
       "      <td>1.000000</td>\n",
       "      <td>1.600000</td>\n",
       "      <td>2.000000</td>\n",
       "      <td>1.000000</td>\n",
       "      <td>3.000000</td>\n",
       "      <td>1.000000</td>\n",
       "    </tr>\n",
       "    <tr>\n",
       "      <th>max</th>\n",
       "      <td>77.000000</td>\n",
       "      <td>1.000000</td>\n",
       "      <td>3.000000</td>\n",
       "      <td>200.000000</td>\n",
       "      <td>564.000000</td>\n",
       "      <td>1.000000</td>\n",
       "      <td>2.000000</td>\n",
       "      <td>202.000000</td>\n",
       "      <td>1.000000</td>\n",
       "      <td>6.200000</td>\n",
       "      <td>2.000000</td>\n",
       "      <td>4.000000</td>\n",
       "      <td>3.000000</td>\n",
       "      <td>1.000000</td>\n",
       "    </tr>\n",
       "  </tbody>\n",
       "</table>\n",
       "</div>"
      ],
      "text/plain": [
       "              age         sex          cp    trestbps        chol         fbs  \\\n",
       "count  303.000000  303.000000  303.000000  303.000000  303.000000  303.000000   \n",
       "mean    54.366337    0.683168    0.966997  131.623762  246.264026    0.148515   \n",
       "std      9.082101    0.466011    1.032052   17.538143   51.830751    0.356198   \n",
       "min     29.000000    0.000000    0.000000   94.000000  126.000000    0.000000   \n",
       "25%     47.500000    0.000000    0.000000  120.000000  211.000000    0.000000   \n",
       "50%     55.000000    1.000000    1.000000  130.000000  240.000000    0.000000   \n",
       "75%     61.000000    1.000000    2.000000  140.000000  274.500000    0.000000   \n",
       "max     77.000000    1.000000    3.000000  200.000000  564.000000    1.000000   \n",
       "\n",
       "          restecg     thalach       exang     oldpeak       slope          ca  \\\n",
       "count  303.000000  303.000000  303.000000  303.000000  303.000000  303.000000   \n",
       "mean     0.528053  149.646865    0.326733    1.039604    1.399340    0.729373   \n",
       "std      0.525860   22.905161    0.469794    1.161075    0.616226    1.022606   \n",
       "min      0.000000   71.000000    0.000000    0.000000    0.000000    0.000000   \n",
       "25%      0.000000  133.500000    0.000000    0.000000    1.000000    0.000000   \n",
       "50%      1.000000  153.000000    0.000000    0.800000    1.000000    0.000000   \n",
       "75%      1.000000  166.000000    1.000000    1.600000    2.000000    1.000000   \n",
       "max      2.000000  202.000000    1.000000    6.200000    2.000000    4.000000   \n",
       "\n",
       "             thal      target  \n",
       "count  303.000000  303.000000  \n",
       "mean     2.313531    0.544554  \n",
       "std      0.612277    0.498835  \n",
       "min      0.000000    0.000000  \n",
       "25%      2.000000    0.000000  \n",
       "50%      2.000000    1.000000  \n",
       "75%      3.000000    1.000000  \n",
       "max      3.000000    1.000000  "
      ]
     },
     "execution_count": 3,
     "metadata": {},
     "output_type": "execute_result"
    }
   ],
   "source": [
    "## Statistic Summary\n",
    "Df_Heart.describe()"
   ]
  },
  {
   "cell_type": "code",
   "execution_count": 4,
   "metadata": {},
   "outputs": [
    {
     "data": {
      "text/plain": [
       "[[28, 4],\n",
       " [48, 12],\n",
       " [85, 4],\n",
       " [92, 11],\n",
       " [158, 11],\n",
       " [163, 11],\n",
       " [164, 11],\n",
       " [204, 9],\n",
       " [220, 4],\n",
       " [221, 9],\n",
       " [223, 3],\n",
       " [246, 4],\n",
       " [248, 3],\n",
       " [251, 11],\n",
       " [272, 7],\n",
       " [281, 12]]"
      ]
     },
     "execution_count": 4,
     "metadata": {},
     "output_type": "execute_result"
    }
   ],
   "source": [
    "## identify outliers\n",
    "list_outliers = Identify_outliers(Df_Heart)\n",
    "list_outliers\n",
    "## Since we don´t have much outliers, I won't remove them, cause I don't think they will impact in our model performance"
   ]
  },
  {
   "cell_type": "code",
   "execution_count": 5,
   "metadata": {
    "scrolled": true
   },
   "outputs": [
    {
     "name": "stdout",
     "output_type": "stream",
     "text": [
      "Data type :\n",
      " age           int64\n",
      "sex           int64\n",
      "cp            int64\n",
      "trestbps      int64\n",
      "chol          int64\n",
      "fbs           int64\n",
      "restecg       int64\n",
      "thalach       int64\n",
      "exang         int64\n",
      "oldpeak     float64\n",
      "slope         int64\n",
      "ca            int64\n",
      "thal          int64\n",
      "target        int64\n",
      "dtype: object \n",
      "\n"
     ]
    },
    {
     "data": {
      "image/png": "[encoded data removed]",
      "text/plain": [
       "<Figure size 720x720 with 2 Axes>"
      ]
     },
     "metadata": {
      "needs_background": "light"
     },
     "output_type": "display_data"
    }
   ],
   "source": [
    "## Show data type along with possible null values and categories distribution\n",
    "\n",
    "Data_Summaryze(Df_Heart)"
   ]
  },
  {
   "cell_type": "markdown",
   "metadata": {},
   "source": [
    "<h2> Through 'Corr' function we can identify strong variables for our model </h2>"
   ]
  },
  {
   "cell_type": "code",
   "execution_count": 6,
   "metadata": {},
   "outputs": [
    {
     "name": "stdout",
     "output_type": "stream",
     "text": [
      "These 7 variables are correlated with our target:\n",
      " cp         0.433798\n",
      "thalach    0.421741\n",
      "exang     -0.436757\n",
      "oldpeak   -0.430696\n",
      "slope      0.345877\n",
      "ca        -0.391724\n",
      "thal      -0.344029\n",
      "Name: target, dtype: float64\n"
     ]
    },
    {
     "data": {
      "image/png": "[encoded data removed]",
      "text/plain": [
       "<Figure size 864x720 with 2 Axes>"
      ]
     },
     "metadata": {
      "needs_background": "light"
     },
     "output_type": "display_data"
    }
   ],
   "source": [
    "## Correlation matrix\n",
    "Df_Corr = Correlation_Matrix(Df_Heart)"
   ]
  },
  {
   "cell_type": "markdown",
   "metadata": {},
   "source": [
    "<h2> Creating and trainning an AdaBoost model using decision trees as a base estimator with all our features <h2>"
   ]
  },
  {
   "cell_type": "code",
   "execution_count": 7,
   "metadata": {},
   "outputs": [
    {
     "name": "stdout",
     "output_type": "stream",
     "text": [
      "X train shape :  (212, 13)\n",
      "y train shape :  (212,)\n",
      "X test  shape :  (91, 13)\n",
      "y test  shape :  (91,)\n",
      "Confusion Matrix:  [[33 12]\n",
      " [10 36]]\n",
      "Accuracy :  75.82417582417582\n",
      "              precision    recall  f1-score   support\n",
      "\n",
      "           0       0.77      0.73      0.75        45\n",
      "           1       0.75      0.78      0.77        46\n",
      "\n",
      "   micro avg       0.76      0.76      0.76        91\n",
      "   macro avg       0.76      0.76      0.76        91\n",
      "weighted avg       0.76      0.76      0.76        91\n",
      "\n"
     ]
    }
   ],
   "source": [
    "# Split dataset into train and test\n",
    "X_train,X_test,y_train,y_test = Split_dataset(Df_Heart,corr=None)\n",
    "# Create \"AdaBoost\" model to fit and predict values.\n",
    "clf_abc = AdaBoost_Fit(X_train,y_train,DecisionTreeClassifier())\n",
    "y_pred  = AdaBoost_Predict(X_test,clf_abc)\n",
    "# Calculate Accuracy\n",
    "Calc_Accuracy(y_test, y_pred)"
   ]
  },
  {
   "cell_type": "code",
   "execution_count": 8,
   "metadata": {},
   "outputs": [],
   "source": [
    "## Use K-Fold to validade our model\n",
    "KFold_Tree = KFold_Validation(X_test,y_test,False,DecisionTreeClassifier())"
   ]
  },
  {
   "cell_type": "code",
   "execution_count": 9,
   "metadata": {},
   "outputs": [],
   "source": [
    "Df_Clfs = pd.DataFrame(KFold_Tree)"
   ]
  },
  {
   "cell_type": "markdown",
   "metadata": {},
   "source": [
    "<h2> Creating and trainning an AdaBoost model using random forest as a base estimator with all our features <h2>"
   ]
  },
  {
   "cell_type": "code",
   "execution_count": 10,
   "metadata": {},
   "outputs": [
    {
     "name": "stdout",
     "output_type": "stream",
     "text": [
      "X train shape :  (212, 13)\n",
      "y train shape :  (212,)\n",
      "X test  shape :  (91, 13)\n",
      "y test  shape :  (91,)\n",
      "Confusion Matrix:  [[37  8]\n",
      " [ 4 42]]\n",
      "Accuracy :  86.81318681318682\n",
      "              precision    recall  f1-score   support\n",
      "\n",
      "           0       0.90      0.82      0.86        45\n",
      "           1       0.84      0.91      0.87        46\n",
      "\n",
      "   micro avg       0.87      0.87      0.87        91\n",
      "   macro avg       0.87      0.87      0.87        91\n",
      "weighted avg       0.87      0.87      0.87        91\n",
      "\n"
     ]
    }
   ],
   "source": [
    "# Split dataset into train and test\n",
    "X_train,X_test,y_train,y_test = Split_dataset(Df_Heart,corr=None)\n",
    "# Create \"AdaBoost\" model to fit and predict values.\n",
    "clf_abc = AdaBoost_Fit(X_train,y_train,RandomForestClassifier(n_estimators=57))\n",
    "y_pred  = AdaBoost_Predict(X_test,clf_abc)\n",
    "# Calculate Accuracy\n",
    "Calc_Accuracy(y_test, y_pred)"
   ]
  },
  {
   "cell_type": "code",
   "execution_count": 11,
   "metadata": {},
   "outputs": [],
   "source": [
    "## Use K-Fold to validade our model\n",
    "KFold_Forest = KFold_Validation(X_train,y_train,False,RandomForestClassifier(n_estimators=57))"
   ]
  },
  {
   "cell_type": "code",
   "execution_count": 12,
   "metadata": {},
   "outputs": [],
   "source": [
    "Df_Clfs = Df_Clfs.append(KFold_Forest,ignore_index=True)"
   ]
  },
  {
   "cell_type": "markdown",
   "metadata": {},
   "source": [
    "<h2><p>Creating and trainning an AdaBoost model with our 'good correlated' features.</p></h2>\n",
    "<p>We can see that removing a few of our features, worsened our perfomance. So I'll not discard those features  in the final model. </p>"
   ]
  },
  {
   "cell_type": "code",
   "execution_count": 13,
   "metadata": {},
   "outputs": [
    {
     "name": "stdout",
     "output_type": "stream",
     "text": [
      "X train shape :  (212, 6)\n",
      "y train shape :  (212,)\n",
      "X test  shape :  (91, 6)\n",
      "y test  shape :  (91,)\n",
      "Confusion Matrix:  [[22 23]\n",
      " [11 35]]\n",
      "Accuracy :  62.637362637362635\n",
      "              precision    recall  f1-score   support\n",
      "\n",
      "           0       0.67      0.49      0.56        45\n",
      "           1       0.60      0.76      0.67        46\n",
      "\n",
      "   micro avg       0.63      0.63      0.63        91\n",
      "   macro avg       0.64      0.62      0.62        91\n",
      "weighted avg       0.63      0.63      0.62        91\n",
      "\n"
     ]
    }
   ],
   "source": [
    "# Split dataset into train and test\n",
    "X_train,X_test,y_train,y_test = Split_dataset(Df_Heart,Df_Corr)\n",
    "# Create \"AdaBoost\" model to fit and predict values.\n",
    "clf_abc = AdaBoost_Fit(X_train,y_train,RandomForestClassifier(n_estimators=100))\n",
    "y_pred  = AdaBoost_Predict(X_test,clf_abc)\n",
    "# Calculate Accuracy\n",
    "Calc_Accuracy(y_test, y_pred)"
   ]
  },
  {
   "cell_type": "markdown",
   "metadata": {},
   "source": [
    "<h1> Now, I'll use \"RandomizeSearchCV\" to look for better hyperparameters, to analyze if we can increase our model performance <h1>"
   ]
  },
  {
   "cell_type": "code",
   "execution_count": 14,
   "metadata": {},
   "outputs": [
    {
     "data": {
      "text/plain": [
       "{'n_estimators': [50,\n",
       "  57,\n",
       "  64,\n",
       "  71,\n",
       "  78,\n",
       "  85,\n",
       "  92,\n",
       "  100,\n",
       "  107,\n",
       "  114,\n",
       "  121,\n",
       "  128,\n",
       "  135,\n",
       "  142,\n",
       "  150],\n",
       " 'learning_rate': [0.5,\n",
       "  0.6111111111111112,\n",
       "  0.7222222222222222,\n",
       "  0.8333333333333333,\n",
       "  0.9444444444444444,\n",
       "  1.0555555555555556,\n",
       "  1.1666666666666665,\n",
       "  1.2777777777777777,\n",
       "  1.3888888888888888,\n",
       "  1.5],\n",
       " 'algorithm': ['SAMME', 'SAMME.R']}"
      ]
     },
     "execution_count": 14,
     "metadata": {},
     "output_type": "execute_result"
    }
   ],
   "source": [
    "## Create random grid with our parameters\n",
    "random_grid = Create_Random_Grid(RandomForestClassifier(n_estimators=50))\n",
    "random_grid"
   ]
  },
  {
   "cell_type": "code",
   "execution_count": 15,
   "metadata": {},
   "outputs": [
    {
     "name": "stdout",
     "output_type": "stream",
     "text": [
      "X train shape :  (212, 13)\n",
      "y train shape :  (212,)\n",
      "X test  shape :  (91, 13)\n",
      "y test  shape :  (91,)\n",
      "Fitting 30 folds for each of 100 candidates, totalling 3000 fits\n"
     ]
    },
    {
     "name": "stderr",
     "output_type": "stream",
     "text": [
      "[Parallel(n_jobs=-1)]: Using backend LokyBackend with 4 concurrent workers.\n",
      "[Parallel(n_jobs=-1)]: Done  33 tasks      | elapsed:    8.7s\n",
      "[Parallel(n_jobs=-1)]: Done 154 tasks      | elapsed:   15.9s\n",
      "[Parallel(n_jobs=-1)]: Done 357 tasks      | elapsed:   28.2s\n",
      "[Parallel(n_jobs=-1)]: Done 640 tasks      | elapsed:   45.7s\n",
      "[Parallel(n_jobs=-1)]: Done 1005 tasks      | elapsed:  1.1min\n",
      "[Parallel(n_jobs=-1)]: Done 1450 tasks      | elapsed:  1.6min\n",
      "[Parallel(n_jobs=-1)]: Done 1977 tasks      | elapsed:  2.1min\n",
      "[Parallel(n_jobs=-1)]: Done 2584 tasks      | elapsed:  2.8min\n",
      "[Parallel(n_jobs=-1)]: Done 3000 out of 3000 | elapsed:  3.4min finished\n"
     ]
    }
   ],
   "source": [
    "## Print the best parameters and construct the new \"clf\" object\n",
    "clf = AdaBoostClassifier(base_estimator=RandomForestClassifier(n_estimators=50))\n",
    "# Split dataset into train and test\n",
    "X_train,X_test,y_train,y_test = Split_dataset(Df_Heart,corr=None)\n",
    "# Using RandomizedSearchCV to find our best model\n",
    "best_grid,clf_best_grid = Random_Grid_Fit(clf,random_grid,X_train,y_train)"
   ]
  },
  {
   "cell_type": "code",
   "execution_count": 16,
   "metadata": {},
   "outputs": [
    {
     "data": {
      "text/plain": [
       "{'n_estimators': 85, 'learning_rate': 1.5, 'algorithm': 'SAMME.R'}"
      ]
     },
     "execution_count": 16,
     "metadata": {},
     "output_type": "execute_result"
    }
   ],
   "source": [
    "best_grid"
   ]
  },
  {
   "cell_type": "code",
   "execution_count": 17,
   "metadata": {},
   "outputs": [],
   "source": [
    "## Predict values with our \"tunned\" model\n",
    "y_pred = Random_Grid_Predict(X_test,clf_best_grid)"
   ]
  },
  {
   "cell_type": "code",
   "execution_count": 18,
   "metadata": {},
   "outputs": [
    {
     "name": "stdout",
     "output_type": "stream",
     "text": [
      "Confusion Matrix:  [[35 10]\n",
      " [ 5 41]]\n",
      "Accuracy :  83.51648351648352\n",
      "              precision    recall  f1-score   support\n",
      "\n",
      "           0       0.88      0.78      0.82        45\n",
      "           1       0.80      0.89      0.85        46\n",
      "\n",
      "   micro avg       0.84      0.84      0.84        91\n",
      "   macro avg       0.84      0.83      0.83        91\n",
      "weighted avg       0.84      0.84      0.83        91\n",
      "\n"
     ]
    }
   ],
   "source": [
    "# Calculate Accuracy\n",
    "Calc_Accuracy(y_test, y_pred)\n",
    "## Here i got and accuracy lower than with the default parameters, but I'll study later and find out why this happened"
   ]
  },
  {
   "cell_type": "code",
   "execution_count": 19,
   "metadata": {},
   "outputs": [],
   "source": [
    "## Use K-Fold to validade our model\n",
    "KFold_Forest_Grid = KFold_Validation(X_train,y_train,False,clf_best_grid)"
   ]
  },
  {
   "cell_type": "code",
   "execution_count": 20,
   "metadata": {},
   "outputs": [],
   "source": [
    "Df_Clfs = Df_Clfs.append(KFold_Forest_Grid,ignore_index=True)\n",
    "columns = ['test_accuracy','test_precision','test_recall','algorithm']"
   ]
  },
  {
   "cell_type": "code",
   "execution_count": 21,
   "metadata": {},
   "outputs": [],
   "source": [
    "Df_Clfs.columns = columns"
   ]
  },
  {
   "cell_type": "code",
   "execution_count": 22,
   "metadata": {},
   "outputs": [
    {
     "data": {
      "image/png": "[encoded data removed]",
      "text/plain": [
       "<Figure size 864x288 with 1 Axes>"
      ]
     },
     "metadata": {
      "needs_background": "light"
     },
     "output_type": "display_data"
    }
   ],
   "source": [
    "Plot_Scores(Df_Clfs)"
   ]
  },
  {
   "cell_type": "markdown",
   "metadata": {},
   "source": [
    "<p> We used Adaboost with Decision Trees and Random Forest, comparing those two models perfomance. We can conclude that Random Forests algorithms're performing way better that Decision Trees.<p>\n",
    "<p> Later, I will include another algorithms in these notebook, so we can compare them against decision trees and random forests. </p>"
   ]
  },
  {
   "cell_type": "code",
   "execution_count": null,
   "metadata": {},
   "outputs": [],
   "source": []
  }
 ],
 "metadata": {
  "kernelspec": {
   "display_name": "Python 3",
   "language": "python",
   "name": "python3"
  },
  "language_info": {
   "codemirror_mode": {
    "name": "ipython",
    "version": 3
   },
   "file_extension": ".py",
   "mimetype": "text/x-python",
   "name": "python",
   "nbconvert_exporter": "python",
   "pygments_lexer": "ipython3",
   "version": "3.7.3"
  }
 },
 "nbformat": 4,
 "nbformat_minor": 2
}
